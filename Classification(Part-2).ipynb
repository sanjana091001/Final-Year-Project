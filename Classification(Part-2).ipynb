{
 "cells": [
  {
   "cell_type": "code",
   "execution_count": 1,
   "metadata": {},
   "outputs": [],
   "source": [
    "import numpy as np\n",
    "import cv2\n",
    "\n",
    "import PIL.Image as Image\n",
    "import os\n",
    "\n",
    "import matplotlib.pylab as plt\n",
    "\n",
    "import tensorflow as tf\n",
    "import tensorflow_hub as hub\n",
    "\n",
    "from tensorflow import keras\n",
    "from tensorflow.keras import layers\n",
    "from tensorflow.keras.models import Sequential"
   ]
  },
  {
   "cell_type": "code",
   "execution_count": 148,
   "metadata": {},
   "outputs": [],
   "source": [
    "#reduce  NILM images, use more SCC images\n",
    "#make HSIL and LSIL 200 something"
   ]
  },
  {
   "cell_type": "code",
   "execution_count": 2,
   "metadata": {},
   "outputs": [],
   "source": [
    "IMAGE_SHAPE=(224,224)"
   ]
  },
  {
   "cell_type": "code",
   "execution_count": 32,
   "metadata": {},
   "outputs": [],
   "source": [
    "import pathlib\n",
    "data_dir=pathlib.Path(\"/home/sanjana/Desktop/Final_Year_Proj/dataset_original/resized\")\n",
    "data_dir2=pathlib.Path(\"/home/sanjana/Desktop/Final_Year_Proj/dataset_original/FYP/sharp-only\")"
   ]
  },
  {
   "cell_type": "code",
   "execution_count": 33,
   "metadata": {},
   "outputs": [],
   "source": [
    "lesions_dict={\n",
    "    'NILM': list(data_dir.glob('NILM_resized/NILM/*')),\n",
    "    'LSIL': list(data_dir.glob('LSIL_resized/LSIL/*')),\n",
    "    'HSIL': list(data_dir.glob('HSIL_resized/HSIL/*')),\n",
    "    'SCC': list(data_dir.glob('SCC_resized/SCC/*')),\n",
    "}"
   ]
  },
  {
   "cell_type": "code",
   "execution_count": 34,
   "metadata": {},
   "outputs": [],
   "source": [
    "\n",
    "lesions_dict_aug={\n",
    "    #'nilm': list(data_dir2.glob('NILM_test/*')),\n",
    "    'lsil': list(data_dir2.glob('lsil/*')),\n",
    "    'hsil': list(data_dir2.glob('hsil/*')),\n",
    "    'scc': list(data_dir2.glob('scc/*')),\n",
    "}\n"
   ]
  },
  {
   "cell_type": "code",
   "execution_count": 35,
   "metadata": {},
   "outputs": [],
   "source": [
    "lesions_labels={\n",
    "    'NILM': 0,\n",
    "    'LSIL': 1,\n",
    "    'HSIL': 2,\n",
    "    'SCC': 3,\n",
    "}"
   ]
  },
  {
   "cell_type": "code",
   "execution_count": 36,
   "metadata": {},
   "outputs": [],
   "source": [
    "\n",
    "lesions_labels_aug={\n",
    "    #'NILM-test': 0,\n",
    "    'lsil': 1,\n",
    "    'hsil': 2,\n",
    "    'scc': 3,\n",
    "}"
   ]
  },
  {
   "cell_type": "code",
   "execution_count": 37,
   "metadata": {},
   "outputs": [],
   "source": [
    "x, y=[],[]\n",
    "for lesions_name, images in lesions_dict.items():\n",
    "    for image in images:\n",
    "        img=cv2.imread(str(image))\n",
    "        x.append(img)\n",
    "        y.append(lesions_labels[lesions_name])"
   ]
  },
  {
   "cell_type": "code",
   "execution_count": 38,
   "metadata": {},
   "outputs": [],
   "source": [
    "x_aug, y_aug=[],[]\n",
    "for lesions_name, images in lesions_dict_aug.items():\n",
    "    for image in images:\n",
    "        img=cv2.imread(str(image))\n",
    "        x_aug.append(img)\n",
    "        y_aug.append(lesions_labels_aug[lesions_name])"
   ]
  },
  {
   "cell_type": "code",
   "execution_count": 39,
   "metadata": {},
   "outputs": [
    {
     "data": {
      "text/plain": [
       "962"
      ]
     },
     "execution_count": 39,
     "metadata": {},
     "output_type": "execute_result"
    }
   ],
   "source": [
    "len(x)"
   ]
  },
  {
   "cell_type": "code",
   "execution_count": 40,
   "metadata": {},
   "outputs": [
    {
     "data": {
      "text/plain": [
       "281"
      ]
     },
     "execution_count": 40,
     "metadata": {},
     "output_type": "execute_result"
    }
   ],
   "source": [
    "len(x_aug)"
   ]
  },
  {
   "cell_type": "code",
   "execution_count": 41,
   "metadata": {},
   "outputs": [],
   "source": [
    "\n",
    "from sklearn.model_selection import train_test_split\n",
    "\n",
    "x_train, x_test, y_train, y_test = train_test_split(x, y, test_size=0.1, random_state=1, shuffle = True)\n",
    "x_train, x_val, y_train, y_val  = train_test_split(x_train, y_train, test_size=0.1, random_state=1)"
   ]
  },
  {
   "cell_type": "code",
   "execution_count": 42,
   "metadata": {},
   "outputs": [
    {
     "name": "stdout",
     "output_type": "stream",
     "text": [
      "778 87 97\n"
     ]
    }
   ],
   "source": [
    "print(len(x_train), len(x_val), len(x_test))"
   ]
  },
  {
   "cell_type": "code",
   "execution_count": 43,
   "metadata": {},
   "outputs": [],
   "source": [
    "x_train = x_train + x_aug\n",
    "y_train = y_train + y_aug"
   ]
  },
  {
   "cell_type": "code",
   "execution_count": 44,
   "metadata": {},
   "outputs": [
    {
     "name": "stdout",
     "output_type": "stream",
     "text": [
      "1059 87 97\n"
     ]
    }
   ],
   "source": [
    "print(len(x_train), len(x_val), len(x_test))"
   ]
  },
  {
   "cell_type": "code",
   "execution_count": 45,
   "metadata": {},
   "outputs": [],
   "source": [
    "x_train=np.array(x_train)\n",
    "y_train=np.array(y_train)"
   ]
  },
  {
   "cell_type": "code",
   "execution_count": 46,
   "metadata": {},
   "outputs": [],
   "source": [
    "x_val=np.array(x_val)\n",
    "y_val=np.array(y_val)"
   ]
  },
  {
   "cell_type": "code",
   "execution_count": 47,
   "metadata": {},
   "outputs": [],
   "source": [
    "x_test = np.array(x_test)\n",
    "y_test = np.array(y_test)"
   ]
  },
  {
   "cell_type": "code",
   "execution_count": 48,
   "metadata": {},
   "outputs": [
    {
     "name": "stdout",
     "output_type": "stream",
     "text": [
      "1059 1059\n",
      "87 87\n",
      "97 97\n"
     ]
    }
   ],
   "source": [
    "x_train_scaled=x_train/255\n",
    "x_val_scaled=x_val/255\n",
    "x_test_scaled = x_test/255\n",
    "print(len(x_train_scaled), len(y_train))\n",
    "print(len(x_val_scaled), len(y_val))\n",
    "print(len(x_test_scaled), len(y_test))"
   ]
  },
  {
   "cell_type": "code",
   "execution_count": 49,
   "metadata": {},
   "outputs": [],
   "source": [
    "#reduce test and validation images, increase training images\n",
    "#increase number of epochs"
   ]
  },
  {
   "cell_type": "code",
   "execution_count": 50,
   "metadata": {},
   "outputs": [],
   "source": [
    "\n",
    "classifier=\"https://tfhub.dev/google/efficientnet/b0/feature-vector/1\"\n",
    "mod=hub.KerasLayer(classifier, input_shape=(224,224,3), trainable=False)\n"
   ]
  },
  {
   "cell_type": "code",
   "execution_count": 51,
   "metadata": {},
   "outputs": [],
   "source": [
    "from tensorflow.python.keras.callbacks import EarlyStopping\n",
    "es = EarlyStopping(monitor='loss', mode='min', verbose=1, patience=2)"
   ]
  },
  {
   "cell_type": "code",
   "execution_count": 54,
   "metadata": {},
   "outputs": [
    {
     "name": "stdout",
     "output_type": "stream",
     "text": [
      "Epoch 1/20\n",
      "53/53 [==============================] - 47s 854ms/step - loss: 0.3194 - acc: 0.8905 - val_loss: 0.1277 - val_acc: 0.9425\n",
      "Epoch 2/20\n",
      "53/53 [==============================] - 41s 777ms/step - loss: 0.0687 - acc: 0.9811 - val_loss: 0.1177 - val_acc: 0.9655\n",
      "Epoch 3/20\n",
      "53/53 [==============================] - 42s 804ms/step - loss: 0.0413 - acc: 0.9915 - val_loss: 0.0655 - val_acc: 0.9655\n",
      "Epoch 4/20\n",
      "53/53 [==============================] - 46s 860ms/step - loss: 0.0306 - acc: 0.9915 - val_loss: 0.0454 - val_acc: 0.9885\n",
      "Epoch 5/20\n",
      "53/53 [==============================] - 48s 915ms/step - loss: 0.0188 - acc: 0.9981 - val_loss: 0.0328 - val_acc: 0.9885\n",
      "Epoch 6/20\n",
      "53/53 [==============================] - 45s 841ms/step - loss: 0.0176 - acc: 0.9953 - val_loss: 0.0298 - val_acc: 1.0000\n",
      "Epoch 7/20\n",
      "53/53 [==============================] - 41s 778ms/step - loss: 0.0116 - acc: 0.9962 - val_loss: 0.0239 - val_acc: 1.0000\n",
      "Epoch 8/20\n",
      "53/53 [==============================] - 45s 855ms/step - loss: 0.0132 - acc: 0.9972 - val_loss: 0.0503 - val_acc: 0.9770\n",
      "Epoch 9/20\n",
      "53/53 [==============================] - 40s 760ms/step - loss: 0.0061 - acc: 0.9991 - val_loss: 0.0252 - val_acc: 0.9885\n",
      "Epoch 10/20\n",
      "53/53 [==============================] - 40s 759ms/step - loss: 0.0093 - acc: 0.9972 - val_loss: 0.0386 - val_acc: 0.9770\n",
      "Epoch 11/20\n",
      "53/53 [==============================] - 39s 742ms/step - loss: 0.0105 - acc: 0.9962 - val_loss: 0.0253 - val_acc: 0.9885\n",
      "Epoch 00011: early stopping\n"
     ]
    }
   ],
   "source": [
    "import matplotlib.pyplot as plt\n",
    "acc_per_fold=[]\n",
    "loss_per_fold=[]\n",
    "num_lesions=4\n",
    "model=tf.keras.Sequential([\n",
    "    mod, \n",
    "    tf.keras.layers.Dense(256, activation=\"relu\"),\n",
    "    tf.keras.layers.Dense(num_lesions)\n",
    "])\n",
    "\n",
    "model.compile(\n",
    "    optimizer=\"adam\", \n",
    "    loss=tf.keras.losses.SparseCategoricalCrossentropy(from_logits=True),\n",
    "    metrics=['acc'])\n",
    "\n",
    "history = model.fit(x_train_scaled, y_train, batch_size=20,epochs=20,callbacks = es, validation_data = (x_val_scaled, y_val))\n",
    "    \n"
   ]
  },
  {
   "cell_type": "code",
   "execution_count": 55,
   "metadata": {},
   "outputs": [
    {
     "name": "stdout",
     "output_type": "stream",
     "text": [
      "Testing accuracy: \n",
      "\n",
      "4/4 [==============================] - 4s 773ms/step - loss: 0.0267 - acc: 0.9897\n",
      "[0.026732373982667923, 0.9896907210350037]\n"
     ]
    }
   ],
   "source": [
    "print(\"Testing accuracy: \\n\")\n",
    "print(model.evaluate(x_test_scaled, y_test))"
   ]
  },
  {
   "cell_type": "code",
   "execution_count": 56,
   "metadata": {},
   "outputs": [
    {
     "data": {
      "image/png": "[encoded data removed]",
      "text/plain": [
       "<Figure size 432x288 with 1 Axes>"
      ]
     },
     "metadata": {
      "needs_background": "light"
     },
     "output_type": "display_data"
    },
    {
     "data": {
      "image/png": "[encoded data removed]",
      "text/plain": [
       "<Figure size 432x288 with 1 Axes>"
      ]
     },
     "metadata": {
      "needs_background": "light"
     },
     "output_type": "display_data"
    }
   ],
   "source": [
    "plt.plot(history.history['acc'])\n",
    "plt.plot(history.history['val_acc'])\n",
    "plt.title('model accuracy')\n",
    "plt.ylabel('accuracy')\n",
    "plt.xlabel('epoch')\n",
    "plt.legend(['train', 'validation'], loc='lower right')\n",
    "plt.show()\n",
    "# summarize history for loss\n",
    "plt.plot(history.history['loss'])\n",
    "plt.plot(history.history['val_loss'])\n",
    "plt.title('model loss')\n",
    "plt.ylabel('loss')\n",
    "plt.xlabel('epoch')\n",
    "plt.legend(['train', 'validation'], loc='upper right')\n",
    "plt.show()"
   ]
  },
  {
   "cell_type": "code",
   "execution_count": 57,
   "metadata": {},
   "outputs": [
    {
     "name": "stdout",
     "output_type": "stream",
     "text": [
      "Testing accuracy: \n",
      "\n",
      "4/4 [==============================] - 4s 777ms/step - loss: 0.0267 - acc: 0.9897\n",
      "[0.026732373982667923, 0.9896907210350037]\n"
     ]
    }
   ],
   "source": [
    "print(\"Testing accuracy: \\n\")\n",
    "print(model.evaluate(x_test_scaled, y_test))"
   ]
  },
  {
   "cell_type": "code",
   "execution_count": 58,
   "metadata": {},
   "outputs": [
    {
     "name": "stdout",
     "output_type": "stream",
     "text": [
      "4/4 [==============================] - 4s 852ms/step\n"
     ]
    },
    {
     "data": {
      "text/plain": [
       "array([0, 2, 0, 3, 0, 0, 2, 0, 0, 0, 0, 0, 0, 0, 2, 1, 0, 2, 2, 0, 0, 0,\n",
       "       0, 0, 0, 1, 0, 0, 0, 0, 2, 0, 0, 0, 0, 0, 0, 2, 0, 1, 3, 2, 0, 0,\n",
       "       0, 1, 0, 1, 0, 0, 0, 0, 3, 0, 0, 0, 3, 2, 2, 0, 0, 1, 0, 0, 0, 0,\n",
       "       0, 0, 0, 0, 0, 0, 2, 0, 0, 2, 1, 0, 3, 0, 2, 0, 1, 1, 0, 0, 0, 1,\n",
       "       0, 0, 1, 0, 3, 0, 2, 0, 1])"
      ]
     },
     "execution_count": 58,
     "metadata": {},
     "output_type": "execute_result"
    }
   ],
   "source": [
    "preds=model.predict(x_test_scaled)\n",
    "pred_classes=np.argmax(preds, axis=1)\n",
    "pred_classes"
   ]
  },
  {
   "cell_type": "code",
   "execution_count": 28,
   "metadata": {},
   "outputs": [
    {
     "name": "stdout",
     "output_type": "stream",
     "text": [
      "              precision    recall  f1-score   support\n",
      "\n",
      "           0       1.00      1.00      1.00        65\n",
      "           1       1.00      1.00      1.00        12\n",
      "           2       1.00      1.00      1.00        13\n",
      "           3       1.00      1.00      1.00         7\n",
      "\n",
      "    accuracy                           1.00        97\n",
      "   macro avg       1.00      1.00      1.00        97\n",
      "weighted avg       1.00      1.00      1.00        97\n",
      "\n"
     ]
    },
    {
     "name": "stderr",
     "output_type": "stream",
     "text": [
      "/home/sanjana/anaconda3/lib/python3.8/site-packages/sklearn/utils/validation.py:67: FutureWarning: Pass labels=[0, 1, 2, 3] as keyword args. From version 0.25 passing these as positional arguments will result in an error\n",
      "  warnings.warn(\"Pass {} as keyword args. From version 0.25 \"\n"
     ]
    },
    {
     "data": {
      "text/plain": [
       "array([[65,  0,  0,  0],\n",
       "       [ 0, 12,  0,  0],\n",
       "       [ 0,  0, 13,  0],\n",
       "       [ 0,  0,  0,  7]])"
      ]
     },
     "execution_count": 28,
     "metadata": {},
     "output_type": "execute_result"
    }
   ],
   "source": [
    "class_labels=[0,1,2,3]\n",
    "import sklearn.metrics as metrics\n",
    "report = metrics.classification_report(y_test, pred_classes, class_labels)\n",
    "print(report) \n",
    "from sklearn.metrics import confusion_matrix\n",
    "confusion_matrix(y_test, pred_classes)"
   ]
  },
  {
   "cell_type": "code",
   "execution_count": null,
   "metadata": {},
   "outputs": [],
   "source": []
  }
 ],
 "metadata": {
  "kernelspec": {
   "display_name": "Python 3",
   "language": "python",
   "name": "python3"
  },
  "language_info": {
   "codemirror_mode": {
    "name": "ipython",
    "version": 3
   },
   "file_extension": ".py",
   "mimetype": "text/x-python",
   "name": "python",
   "nbconvert_exporter": "python",
   "pygments_lexer": "ipython3",
   "version": "3.8.5"
  }
 },
 "nbformat": 4,
 "nbformat_minor": 5
}
